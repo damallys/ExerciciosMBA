{
  "cells": [
    {
      "cell_type": "markdown",
      "metadata": {
        "id": "view-in-github",
        "colab_type": "text"
      },
      "source": [
        "<a href=\"https://colab.research.google.com/github/damallys/ExerciciosMBA/blob/main/Curso_de_Python_para_MBA_DS.ipynb\" target=\"_parent\"><img src=\"https://colab.research.google.com/assets/colab-badge.svg\" alt=\"Open In Colab\"/></a>"
      ]
    },
    {
      "cell_type": "code",
      "execution_count": null,
      "metadata": {
        "id": "KigDd1iqz0VB"
      },
      "outputs": [],
      "source": []
    },
    {
      "cell_type": "markdown",
      "metadata": {
        "id": "w71XIdHZ3zvf"
      },
      "source": [
        "# Aula 2 do Curso de Python para DS\n"
      ]
    },
    {
      "cell_type": "markdown",
      "metadata": {
        "id": "JdXFlCOQVgFQ"
      },
      "source": []
    },
    {
      "cell_type": "code",
      "execution_count": null,
      "metadata": {
        "colab": {
          "base_uri": "https://localhost:8080/"
        },
        "id": "FKDkcZUiVguH",
        "outputId": "76e00984-0ad0-47bc-e36f-109b907e9c94"
      },
      "outputs": [
        {
          "name": "stdout",
          "output_type": "stream",
          "text": [
            "Hello Word\n"
          ]
        }
      ],
      "source": [
        "print('Hello Word')"
      ]
    },
    {
      "cell_type": "code",
      "execution_count": null,
      "metadata": {
        "colab": {
          "base_uri": "https://localhost:8080/"
        },
        "id": "8YaiIHarVl15",
        "outputId": "06936826-97c1-434c-8864-25e770650c0f"
      },
      "outputs": [
        {
          "name": "stdout",
          "output_type": "stream",
          "text": [
            "Bem vindos ao MBA FLAI FAMESP. \n",
            " Tenham todos um excelente experência! \n",
            "\n",
            " Ass.Ricardo Rocha\n"
          ]
        }
      ],
      "source": [
        "print('Bem vindos ao MBA FLAI FAMESP. \\n Tenham todos um excelente experência! \\n\\n Ass.Ricardo Rocha')"
      ]
    },
    {
      "cell_type": "markdown",
      "metadata": {
        "id": "u7bxP-FnYwju"
      },
      "source": [
        "# Aula 3 - Lógica de programação\n",
        "\n",
        "\n"
      ]
    },
    {
      "cell_type": "code",
      "execution_count": null,
      "metadata": {
        "id": "L7qsGYBaY9M6"
      },
      "outputs": [],
      "source": [
        "## ◾ **Atribuição de Variáveis**"
      ]
    },
    {
      "cell_type": "code",
      "execution_count": null,
      "metadata": {
        "id": "36LjLVwvbUZS"
      },
      "outputs": [],
      "source": [
        "nome= 'Ricardo Rocha'\n",
        "idade = 35\n",
        "comida_fav= 'lasanha'"
      ]
    },
    {
      "cell_type": "code",
      "execution_count": null,
      "metadata": {
        "colab": {
          "base_uri": "https://localhost:8080/",
          "height": 53
        },
        "id": "toFlC4ZkbZKB",
        "outputId": "5dc7d96b-5156-4925-f0d2-fc3d449afcf7"
      },
      "outputs": [
        {
          "name": "stdout",
          "output_type": "stream",
          "text": [
            "lasanha\n"
          ]
        },
        {
          "data": {
            "application/vnd.google.colaboratory.intrinsic+json": {
              "type": "string"
            },
            "text/plain": [
              "'Ricardo Rocha'"
            ]
          },
          "execution_count": 5,
          "metadata": {},
          "output_type": "execute_result"
        }
      ],
      "source": [
        "print(comida_fav)\n",
        "nome"
      ]
    },
    {
      "cell_type": "code",
      "execution_count": null,
      "metadata": {
        "colab": {
          "base_uri": "https://localhost:8080/"
        },
        "id": "CfG_p8bHboNi",
        "outputId": "a570f169-682f-4fb4-db59-4e393c4813a3"
      },
      "outputs": [
        {
          "name": "stdout",
          "output_type": "stream",
          "text": [
            "Soma: 5\n",
            "Subtração: 1\n",
            "Multiplicação: 6\n",
            "Divisão: 1.5\n",
            "Divisão Inteira: 1\n",
            "Resto da Divisão: 1\n",
            "Exponenciação: 9\n"
          ]
        }
      ],
      "source": [
        "a = 3\n",
        "b= 2\n",
        "\n",
        "print('Soma:', a + b )\n",
        "print('Subtração:', a - b )\n",
        "print('Multiplicação:', a * b )\n",
        "print('Divisão:', a / b )\n",
        "print('Divisão Inteira:', a // b )\n",
        "print('Resto da Divisão:', a % b )\n",
        "print('Exponenciação:', a ** b )\n"
      ]
    },
    {
      "cell_type": "markdown",
      "metadata": {
        "id": "LIdEMMJg6Y9w"
      },
      "source": [
        "Temos também as funções **min, max** e **abs**, para calcular, respectivamente, o mínimo, o máximo e o valor absoluto de um número"
      ]
    },
    {
      "cell_type": "code",
      "execution_count": null,
      "metadata": {
        "colab": {
          "base_uri": "https://localhost:8080/"
        },
        "id": "VAK791CQ6PUV",
        "outputId": "80e690e9-6679-4a07-cd1d-065511f16ca3"
      },
      "outputs": [
        {
          "data": {
            "text/plain": [
              "2"
            ]
          },
          "execution_count": 3,
          "metadata": {},
          "output_type": "execute_result"
        }
      ],
      "source": [
        "min(a,b)"
      ]
    },
    {
      "cell_type": "code",
      "execution_count": null,
      "metadata": {
        "colab": {
          "base_uri": "https://localhost:8080/"
        },
        "id": "O9CXMGno61k0",
        "outputId": "29beefc7-089e-4ace-edbc-b705526317a8"
      },
      "outputs": [
        {
          "data": {
            "text/plain": [
              "3"
            ]
          },
          "execution_count": 4,
          "metadata": {},
          "output_type": "execute_result"
        }
      ],
      "source": [
        "max(a, b)"
      ]
    },
    {
      "cell_type": "code",
      "execution_count": null,
      "metadata": {
        "colab": {
          "base_uri": "https://localhost:8080/"
        },
        "id": "1T1j-YOS66A9",
        "outputId": "72a18a50-870e-4703-ad3a-345e0de262ef"
      },
      "outputs": [
        {
          "data": {
            "text/plain": [
              "1"
            ]
          },
          "execution_count": 6,
          "metadata": {},
          "output_type": "execute_result"
        }
      ],
      "source": [
        "abs(b-a)"
      ]
    },
    {
      "cell_type": "markdown",
      "metadata": {
        "id": "w9ybO1_s8s9d"
      },
      "source": [
        "# > Algumas funções úteis\n"
      ]
    },
    {
      "cell_type": "code",
      "execution_count": null,
      "metadata": {
        "colab": {
          "base_uri": "https://localhost:8080/"
        },
        "id": "A77soRAr8yET",
        "outputId": "d9b74aff-bfe5-445e-ee96-4660c806048d"
      },
      "outputs": [
        {
          "name": "stdout",
          "output_type": "stream",
          "text": [
            "Entre com sua idade:35\n"
          ]
        }
      ],
      "source": [
        "# input \n",
        "#idade = 35\n",
        "idade = input(\"Entre com sua idade:\")"
      ]
    },
    {
      "cell_type": "code",
      "execution_count": null,
      "metadata": {
        "colab": {
          "base_uri": "https://localhost:8080/",
          "height": 35
        },
        "id": "TGRshZ7Coy7g",
        "outputId": "168a769c-9958-43ac-cd1e-c2701ce9a365"
      },
      "outputs": [
        {
          "data": {
            "application/vnd.google.colaboratory.intrinsic+json": {
              "type": "string"
            },
            "text/plain": [
              "'35'"
            ]
          },
          "execution_count": 3,
          "metadata": {},
          "output_type": "execute_result"
        }
      ],
      "source": [
        "idade"
      ]
    },
    {
      "cell_type": "code",
      "execution_count": null,
      "metadata": {
        "colab": {
          "base_uri": "https://localhost:8080/"
        },
        "id": "VFboO5N1trxR",
        "outputId": "f756631e-b8ae-4a43-9221-a8b4becd1c4e"
      },
      "outputs": [
        {
          "data": {
            "text/plain": [
              "int"
            ]
          },
          "execution_count": 7,
          "metadata": {},
          "output_type": "execute_result"
        }
      ],
      "source": [
        "#type \n",
        "type(idade)\n",
        "type(int(idade))"
      ]
    },
    {
      "cell_type": "code",
      "execution_count": null,
      "metadata": {
        "colab": {
          "base_uri": "https://localhost:8080/"
        },
        "id": "jNkeqeR9Plqf",
        "outputId": "d5ea1cf8-3bbe-484b-bba0-507bbc0d2c03"
      },
      "outputs": [
        {
          "data": {
            "text/plain": [
              "35.55"
            ]
          },
          "execution_count": 13,
          "metadata": {},
          "output_type": "execute_result"
        }
      ],
      "source": [
        "#round \n",
        "round(35.5486)\n",
        "round(35.5486, ndigits= 2)\n",
        "round(35.5486, 2)"
      ]
    },
    {
      "cell_type": "code",
      "execution_count": null,
      "metadata": {
        "colab": {
          "base_uri": "https://localhost:8080/"
        },
        "id": "uG2lEVWlhGiA",
        "outputId": "fcc096df-b5f0-4ce9-9896-82579dacadda"
      },
      "outputs": [
        {
          "data": {
            "text/plain": [
              "13"
            ]
          },
          "execution_count": 17,
          "metadata": {},
          "output_type": "execute_result"
        }
      ],
      "source": [
        "#len (comprimento de alguma coisa)\n",
        "len(nome)\n"
      ]
    },
    {
      "cell_type": "code",
      "execution_count": null,
      "metadata": {
        "colab": {
          "base_uri": "https://localhost:8080/"
        },
        "id": "qP4t2JdykH19",
        "outputId": "7f3d2b74-f3ad-4b3c-b8ea-d8e8b915c16e"
      },
      "outputs": [
        {
          "name": "stdout",
          "output_type": "stream",
          "text": [
            "Help on built-in function round in module builtins:\n",
            "\n",
            "round(number, ndigits=None)\n",
            "    Round a number to a given precision in decimal digits.\n",
            "    \n",
            "    The return value is an integer if ndigits is omitted or None.  Otherwise\n",
            "    the return value has the same type as the number.  ndigits may be negative.\n",
            "\n"
          ]
        }
      ],
      "source": [
        "help(round)"
      ]
    },
    {
      "cell_type": "code",
      "execution_count": null,
      "metadata": {
        "id": "BFQLF-CLkLkp"
      },
      "outputs": [],
      "source": [
        "?round\n"
      ]
    },
    {
      "cell_type": "markdown",
      "metadata": {
        "id": "SUrNzZ7kkU-_"
      },
      "source": [
        "Faça um programa que pergunte o nome da pessoa e a distância de uma corrida que se deseja fazer. Calcule o preço das corridas a partir da distância Q, em quilômetros, da corrida. O preço de uma corrida simples, corrida premium e corrida para entrega de pacotes é dado, respectivamente por:\n",
        "\n",
        "Simples=6,00+0,735Q\n",
        "Premium=10,00+0,6Q+0.07Q2\n",
        "Entrega=6,00+0,65Q−0.04Q2\n",
        "\n",
        "Entregue na tela uma saudação ao cliente e os valores de cada corrida, com no máximo 2 casas decimais.\n"
      ]
    },
    {
      "cell_type": "code",
      "execution_count": null,
      "metadata": {
        "colab": {
          "base_uri": "https://localhost:8080/"
        },
        "id": "5xGHOfVUkcRr",
        "outputId": "e4f9566e-eaa4-41f0-80f2-63fb0bc36367"
      },
      "outputs": [
        {
          "name": "stdout",
          "output_type": "stream",
          "text": [
            "Entre com o seu nome: Maria\n",
            "Entre com a distância da corrida (em km):15.852\n",
            "Olá Maria\n",
            "A corrida SIMPLES ficará em: 17.65\n",
            "A corrida PREMIUM ficará em: 37.1\n",
            "A corrida ENTREGA ficará em: 6.25\n"
          ]
        }
      ],
      "source": [
        "nome= input('Entre com o seu nome: ')  \n",
        "q= float(input('Entre com a distância da corrida (em km):'))\n",
        "#int (numuro inteiro)\n",
        "#float (numero real com quantas decimais eu quiser )\n",
        "\n",
        "simples= 6 + 0.735 * q\n",
        "premium= 10 + 0.6 * q + 0.07 * q**2\n",
        "entrega= 6 + 0.65 * q - 0.04 * q**2 \n",
        "\n",
        "print('Olá', nome)\n",
        "print('A corrida SIMPLES ficará em:', round(simples,2))\n",
        "print('A corrida PREMIUM ficará em:', round(premium,2))\n",
        "print('A corrida ENTREGA ficará em:', round(entrega,2))"
      ]
    },
    {
      "cell_type": "markdown",
      "metadata": {
        "id": "8qdAo7Wa01Ax"
      },
      "source": [
        "#Aula 4 - Listas e Tuplas"
      ]
    },
    {
      "cell_type": "markdown",
      "metadata": {
        "id": "7SQmS57v3AqY"
      },
      "source": [
        "###Uma lista é uma coleção de objetos guardadas de forma indexada e que podem ser alteradas."
      ]
    },
    {
      "cell_type": "code",
      "execution_count": null,
      "metadata": {
        "id": "v5_FWrr11haH"
      },
      "outputs": [],
      "source": [
        "lista = [2, 5, 11, 20]"
      ]
    },
    {
      "cell_type": "code",
      "execution_count": null,
      "metadata": {
        "id": "LY9LoYCd1od0"
      },
      "outputs": [],
      "source": [
        "lista2= ['Damallys', 'Damaris', 'Daiane']"
      ]
    },
    {
      "cell_type": "code",
      "execution_count": null,
      "metadata": {
        "id": "OF7qrJac10yM"
      },
      "outputs": [],
      "source": [
        "lista3= ['Damallys', 26, type, True]"
      ]
    },
    {
      "cell_type": "code",
      "execution_count": null,
      "metadata": {
        "colab": {
          "base_uri": "https://localhost:8080/"
        },
        "id": "3rnh_Zq_2EQu",
        "outputId": "504999a8-7fb6-4666-e594-07c47f5938d2"
      },
      "outputs": [
        {
          "data": {
            "text/plain": [
              "['Damallys', 26, type, True]"
            ]
          },
          "execution_count": 6,
          "metadata": {},
          "output_type": "execute_result"
        }
      ],
      "source": [
        "lista3"
      ]
    },
    {
      "cell_type": "code",
      "execution_count": null,
      "metadata": {
        "colab": {
          "base_uri": "https://localhost:8080/",
          "height": 35
        },
        "id": "cKGUeBR22GvB",
        "outputId": "3d1d2ec3-133a-4277-eb08-bb700b2a86b9"
      },
      "outputs": [
        {
          "data": {
            "application/vnd.google.colaboratory.intrinsic+json": {
              "type": "string"
            },
            "text/plain": [
              "'Damallys'"
            ]
          },
          "execution_count": 8,
          "metadata": {},
          "output_type": "execute_result"
        }
      ],
      "source": [
        "lista2[0]"
      ]
    },
    {
      "cell_type": "code",
      "execution_count": null,
      "metadata": {
        "id": "r5NxBvzg31-C"
      },
      "outputs": [],
      "source": [
        "tupla= ('Maria', 'Manoel', 'Damallys', 'Damaris')"
      ]
    },
    {
      "cell_type": "markdown",
      "metadata": {
        "id": "XcDOWgaGtHWH"
      },
      "source": [
        "## Indexação --> Começam com índice  0.\n"
      ]
    },
    {
      "cell_type": "code",
      "execution_count": null,
      "metadata": {
        "colab": {
          "base_uri": "https://localhost:8080/"
        },
        "id": "5E1dscoAsaJw",
        "outputId": "a4e72bee-f76f-46f0-e17b-275c430c27b9"
      },
      "outputs": [
        {
          "data": {
            "text/plain": [
              "['P', 'y', 'n']"
            ]
          },
          "execution_count": 20,
          "metadata": {},
          "output_type": "execute_result"
        }
      ],
      "source": [
        "frase='Pynton para Data Science'\n",
        "letras= list(frase)\n",
        "letras\n",
        "len(letras)\n",
        "\n"
      ]
    },
    {
      "cell_type": "code",
      "execution_count": null,
      "metadata": {
        "colab": {
          "base_uri": "https://localhost:8080/",
          "height": 35
        },
        "id": "QXD-FyFguGK3",
        "outputId": "b0e6da78-4d84-48f8-901e-7b868a2efef6"
      },
      "outputs": [
        {
          "data": {
            "application/vnd.google.colaboratory.intrinsic+json": {
              "type": "string"
            },
            "text/plain": [
              "'t'"
            ]
          },
          "execution_count": 23,
          "metadata": {},
          "output_type": "execute_result"
        }
      ],
      "source": [
        "letras[3 ]"
      ]
    },
    {
      "cell_type": "code",
      "execution_count": null,
      "metadata": {
        "colab": {
          "base_uri": "https://localhost:8080/"
        },
        "id": "5Su4iLhIuJpA",
        "outputId": "a4efe0f3-5747-41d4-81fb-f42c2aab1904"
      },
      "outputs": [
        {
          "data": {
            "text/plain": [
              "['P', 'y', 'n', 't', 'o', 'n']"
            ]
          },
          "execution_count": 24,
          "metadata": {},
          "output_type": "execute_result"
        }
      ],
      "source": [
        "letras[0:6]"
      ]
    },
    {
      "cell_type": "markdown",
      "metadata": {
        "id": "R8bYz4EHtnGT"
      },
      "source": [
        "No Python, o padrão é trabalhar com **intervalos semi-abertos** [ , ), como no exemplo abaixo.\n",
        "\n",
        "---\n",
        "\n"
      ]
    },
    {
      "cell_type": "code",
      "execution_count": null,
      "metadata": {
        "colab": {
          "base_uri": "https://localhost:8080/"
        },
        "id": "RHHnrM5JtYlJ",
        "outputId": "5f355bd6-47f1-40cf-d6e0-cbbee13ea208"
      },
      "outputs": [
        {
          "data": {
            "text/plain": [
              "['P', 'y', 'n', 't', 'o', 'n']"
            ]
          },
          "execution_count": 25,
          "metadata": {},
          "output_type": "execute_result"
        }
      ],
      "source": [
        "letras[:6]"
      ]
    },
    {
      "cell_type": "code",
      "execution_count": null,
      "metadata": {
        "colab": {
          "base_uri": "https://localhost:8080/"
        },
        "id": "TrnBQk23837E",
        "outputId": "cc6d0aaf-facf-478c-bbf3-933d2d10a3a5"
      },
      "outputs": [
        {
          "data": {
            "text/plain": [
              "['p', 'a', 'r', 'a']"
            ]
          },
          "execution_count": 26,
          "metadata": {},
          "output_type": "execute_result"
        }
      ],
      "source": [
        "letras[7:11]"
      ]
    },
    {
      "cell_type": "code",
      "execution_count": null,
      "metadata": {
        "colab": {
          "base_uri": "https://localhost:8080/"
        },
        "id": "WA1sfvRi8_Fl",
        "outputId": "187a251d-0969-4adb-8240-9bbc0dbff09f"
      },
      "outputs": [
        {
          "data": {
            "text/plain": [
              "['D', 'a', 't', 'a']"
            ]
          },
          "execution_count": 27,
          "metadata": {},
          "output_type": "execute_result"
        }
      ],
      "source": [
        "letras[12:16]"
      ]
    },
    {
      "cell_type": "code",
      "execution_count": null,
      "metadata": {
        "colab": {
          "base_uri": "https://localhost:8080/"
        },
        "id": "CuE-ZL9J9Eq6",
        "outputId": "ea3c6813-e712-4586-fc60-0c5f143d1e34"
      },
      "outputs": [
        {
          "data": {
            "text/plain": [
              "['S', 'c', 'i', 'e', 'n', 'c', 'e']"
            ]
          },
          "execution_count": 29,
          "metadata": {},
          "output_type": "execute_result"
        }
      ],
      "source": [
        "letras[17:24]"
      ]
    },
    {
      "cell_type": "code",
      "execution_count": null,
      "metadata": {
        "colab": {
          "base_uri": "https://localhost:8080/"
        },
        "id": "t1X16GDT9PYx",
        "outputId": "0d6b08d7-8a06-49de-ef12-d63c3021b55a"
      },
      "outputs": [
        {
          "data": {
            "text/plain": [
              "['P', 'n', 'o', ' ', 'a', 'a', 'D', 't', ' ', 'c', 'e', 'c']"
            ]
          },
          "execution_count": 31,
          "metadata": {},
          "output_type": "execute_result"
        }
      ],
      "source": [
        "letras[::2]\n",
        "## pega de dois em dois"
      ]
    },
    {
      "cell_type": "code",
      "execution_count": null,
      "metadata": {
        "colab": {
          "base_uri": "https://localhost:8080/",
          "height": 35
        },
        "id": "G4coK9c49Saa",
        "outputId": "2196ba16-2ada-44e0-e7b6-156c99f93cf3"
      },
      "outputs": [
        {
          "data": {
            "application/vnd.google.colaboratory.intrinsic+json": {
              "type": "string"
            },
            "text/plain": [
              "'e'"
            ]
          },
          "execution_count": 35,
          "metadata": {},
          "output_type": "execute_result"
        }
      ],
      "source": [
        "letras[-1]\n",
        "## pega a lista invertida"
      ]
    },
    {
      "cell_type": "code",
      "execution_count": null,
      "metadata": {
        "colab": {
          "base_uri": "https://localhost:8080/",
          "height": 35
        },
        "id": "CHMk_Nwh9X2U",
        "outputId": "8190ff08-5ce9-4f3b-8e78-1d914fde3d09"
      },
      "outputs": [
        {
          "data": {
            "application/vnd.google.colaboratory.intrinsic+json": {
              "type": "string"
            },
            "text/plain": [
              "'e'"
            ]
          },
          "execution_count": 36,
          "metadata": {},
          "output_type": "execute_result"
        }
      ],
      "source": [
        "a = list('Python para Data Science')\n",
        "a[-1]"
      ]
    },
    {
      "cell_type": "markdown",
      "metadata": {
        "id": "FETecwMY921n"
      },
      "source": [
        "#**Métodos de listas**"
      ]
    },
    {
      "cell_type": "markdown",
      "metadata": {
        "id": "sg-ezY_99-Kw"
      },
      "source": [
        "append, pop, sort, insert, remove, reverse, extend, index, count, copy"
      ]
    },
    {
      "cell_type": "code",
      "execution_count": null,
      "metadata": {
        "id": "zashQHO798yK"
      },
      "outputs": [],
      "source": [
        "lista = ['A', 'B', 'C', 'D']"
      ]
    },
    {
      "cell_type": "code",
      "execution_count": null,
      "metadata": {
        "id": "Da8K0OoK-Lh_"
      },
      "outputs": [],
      "source": [
        "lista.append('E')"
      ]
    },
    {
      "cell_type": "code",
      "execution_count": null,
      "metadata": {
        "colab": {
          "base_uri": "https://localhost:8080/"
        },
        "id": "FmLm9eNG-LuG",
        "outputId": "5cd0bb34-432b-4d72-8570-8bddce8040c0"
      },
      "outputs": [
        {
          "data": {
            "text/plain": [
              "['A', 'B', 'C', 'D']"
            ]
          },
          "execution_count": 78,
          "metadata": {},
          "output_type": "execute_result"
        }
      ],
      "source": [
        "lista"
      ]
    },
    {
      "cell_type": "code",
      "execution_count": null,
      "metadata": {
        "colab": {
          "base_uri": "https://localhost:8080/",
          "height": 35
        },
        "id": "G2RsaQY6-L72",
        "outputId": "df01e646-db6b-4941-9689-dfc49c323f64"
      },
      "outputs": [
        {
          "data": {
            "application/vnd.google.colaboratory.intrinsic+json": {
              "type": "string"
            },
            "text/plain": [
              "'E'"
            ]
          },
          "execution_count": 44,
          "metadata": {},
          "output_type": "execute_result"
        }
      ],
      "source": [
        "lista.pop()"
      ]
    },
    {
      "cell_type": "code",
      "execution_count": null,
      "metadata": {
        "colab": {
          "base_uri": "https://localhost:8080/"
        },
        "id": "fYZywznD-32Q",
        "outputId": "48c02c39-bd73-40ce-cc51-57d9ca213f19"
      },
      "outputs": [
        {
          "data": {
            "text/plain": [
              "['A', 'B', 'C', 'D', 'G', 'E', 'F']"
            ]
          },
          "execution_count": 51,
          "metadata": {},
          "output_type": "execute_result"
        }
      ],
      "source": [
        "lista + ['G', 'E', 'F']\n",
        "lista2= lista + ['G', 'E', 'F']\n",
        "lista2"
      ]
    },
    {
      "cell_type": "code",
      "execution_count": null,
      "metadata": {
        "id": "7PNr2uvN-vKb"
      },
      "outputs": [],
      "source": [
        "lista2.sort()"
      ]
    },
    {
      "cell_type": "code",
      "execution_count": null,
      "metadata": {
        "colab": {
          "base_uri": "https://localhost:8080/"
        },
        "id": "ZScHILNm-vVi",
        "outputId": "acba23bb-427d-473b-948d-a15cda8dd1c7"
      },
      "outputs": [
        {
          "data": {
            "text/plain": [
              "['A', 'Damallys', 'B', 'C', 'D']"
            ]
          },
          "execution_count": 57,
          "metadata": {},
          "output_type": "execute_result"
        }
      ],
      "source": [
        "lista.insert(1, 'Damallys')\n",
        "lista"
      ]
    },
    {
      "cell_type": "code",
      "execution_count": null,
      "metadata": {
        "colab": {
          "base_uri": "https://localhost:8080/"
        },
        "id": "vcOVJacb-vcB",
        "outputId": "bd5a1b9f-5442-4630-c002-ed2373d1ee2f"
      },
      "outputs": [
        {
          "data": {
            "text/plain": [
              "['A', 'B', 'C', 'D']"
            ]
          },
          "execution_count": 59,
          "metadata": {},
          "output_type": "execute_result"
        }
      ],
      "source": [
        "lista.remove('Damallys')\n",
        "lista"
      ]
    },
    {
      "cell_type": "code",
      "execution_count": null,
      "metadata": {
        "colab": {
          "base_uri": "https://localhost:8080/"
        },
        "id": "dtfwBVdY-vfq",
        "outputId": "fb53b6c3-826a-428b-a6be-6e74fae454c6"
      },
      "outputs": [
        {
          "data": {
            "text/plain": [
              "['D', 'C', 'B', 'A']"
            ]
          },
          "execution_count": 75,
          "metadata": {},
          "output_type": "execute_result"
        }
      ],
      "source": [
        "lista.reverse() "
      ]
    },
    {
      "cell_type": "code",
      "execution_count": null,
      "metadata": {
        "colab": {
          "base_uri": "https://localhost:8080/"
        },
        "id": "RiG0_cSgApbo",
        "outputId": "ff4dfdf7-0b3c-409c-ba76-45e6b7e1e293"
      },
      "outputs": [
        {
          "data": {
            "text/plain": [
              "['A', 'B', 'C', 'D']"
            ]
          },
          "execution_count": 79,
          "metadata": {},
          "output_type": "execute_result"
        }
      ],
      "source": [
        "lista"
      ]
    },
    {
      "cell_type": "code",
      "execution_count": null,
      "metadata": {
        "colab": {
          "base_uri": "https://localhost:8080/"
        },
        "id": "0dFA5uMR-v9V",
        "outputId": "ffc38944-b9dd-4f0d-c67e-715fd5d881e8"
      },
      "outputs": [
        {
          "data": {
            "text/plain": [
              "2"
            ]
          },
          "execution_count": 69,
          "metadata": {},
          "output_type": "execute_result"
        }
      ],
      "source": [
        "lista.index('B')"
      ]
    },
    {
      "cell_type": "code",
      "execution_count": null,
      "metadata": {
        "colab": {
          "base_uri": "https://localhost:8080/"
        },
        "id": "V7JrHLDU-v_u",
        "outputId": "38b5207a-0c19-4bed-b9cd-43822a1d7817"
      },
      "outputs": [
        {
          "data": {
            "text/plain": [
              "4"
            ]
          },
          "execution_count": 71,
          "metadata": {},
          "output_type": "execute_result"
        }
      ],
      "source": [
        "lista.count('D')"
      ]
    },
    {
      "cell_type": "code",
      "execution_count": null,
      "metadata": {
        "id": "QhlwdhmvA90P"
      },
      "outputs": [],
      "source": [
        "lista2= lista"
      ]
    },
    {
      "cell_type": "code",
      "execution_count": null,
      "metadata": {
        "colab": {
          "base_uri": "https://localhost:8080/"
        },
        "id": "_BFkW8X0A99z",
        "outputId": "69d17e5c-a79f-4678-e711-9932155e19e2"
      },
      "outputs": [
        {
          "data": {
            "text/plain": [
              "['A', 'B', 'C', 'D']"
            ]
          },
          "execution_count": 81,
          "metadata": {},
          "output_type": "execute_result"
        }
      ],
      "source": [
        "lista"
      ]
    },
    {
      "cell_type": "code",
      "execution_count": null,
      "metadata": {
        "colab": {
          "base_uri": "https://localhost:8080/",
          "height": 35
        },
        "id": "JUMw5NRNA-EE",
        "outputId": "b4302f41-6127-4d4a-a0c3-66b6847419cc"
      },
      "outputs": [
        {
          "data": {
            "application/vnd.google.colaboratory.intrinsic+json": {
              "type": "string"
            },
            "text/plain": [
              "'D'"
            ]
          },
          "execution_count": 82,
          "metadata": {},
          "output_type": "execute_result"
        }
      ],
      "source": [
        "lista.pop()"
      ]
    },
    {
      "cell_type": "code",
      "execution_count": null,
      "metadata": {
        "colab": {
          "base_uri": "https://localhost:8080/"
        },
        "id": "ui-aM7a5A-G4",
        "outputId": "94392b6e-f896-46ac-cd58-bb59d6856024"
      },
      "outputs": [
        {
          "data": {
            "text/plain": [
              "['A', 'B', 'C']"
            ]
          },
          "execution_count": 84,
          "metadata": {},
          "output_type": "execute_result"
        }
      ],
      "source": [
        "lista2"
      ]
    },
    {
      "cell_type": "markdown",
      "metadata": {
        "id": "uHHXR8JGDb2R"
      },
      "source": [
        "#Exercício Proposto\n"
      ]
    },
    {
      "cell_type": "markdown",
      "metadata": {
        "id": "XSDjU7GBEFNv"
      },
      "source": [
        "Considere a lista abaixo:\n",
        "\n",
        "lista = ['A', 35, ['Alice', 'Johnny', [35, [0,1,'F'], 29], 1987], ['Python', 'para', 'DS'] ]\n",
        "\n",
        "Escreva como retornar dessa lista apenas o valor 'F'. "
      ]
    },
    {
      "cell_type": "code",
      "execution_count": null,
      "metadata": {
        "id": "pEtrn6EeDfGU"
      },
      "outputs": [],
      "source": [
        "lista = ['A', 35, ['Alice', 'Johnny', [35, [0,1,'F'], 29], 1987], ['Python', 'para', 'DS'] ]"
      ]
    },
    {
      "cell_type": "code",
      "execution_count": null,
      "metadata": {
        "colab": {
          "base_uri": "https://localhost:8080/"
        },
        "id": "Z0DDhfizDg6z",
        "outputId": "1cff3515-b2db-4908-9ad6-695f0d751e2a"
      },
      "outputs": [
        {
          "data": {
            "text/plain": [
              "['A',\n",
              " 35,\n",
              " ['Alice', 'Johnny', [35, [0, 1, 'F'], 29], 1987],\n",
              " ['Python', 'para', 'DS']]"
            ]
          },
          "execution_count": 89,
          "metadata": {},
          "output_type": "execute_result"
        }
      ],
      "source": [
        "lista"
      ]
    },
    {
      "cell_type": "code",
      "execution_count": null,
      "metadata": {
        "colab": {
          "base_uri": "https://localhost:8080/",
          "height": 35
        },
        "id": "Etfl3ab3DiXv",
        "outputId": "237b4bfa-00b8-4685-fa08-a69903bc4c12"
      },
      "outputs": [
        {
          "data": {
            "application/vnd.google.colaboratory.intrinsic+json": {
              "type": "string"
            },
            "text/plain": [
              "'F'"
            ]
          },
          "execution_count": 102,
          "metadata": {},
          "output_type": "execute_result"
        }
      ],
      "source": [
        "lista[2][2][1][2]"
      ]
    },
    {
      "cell_type": "markdown",
      "metadata": {
        "id": "kxRu4ZZiPFlV"
      },
      "source": [
        "#Aula 5 - Strings"
      ]
    },
    {
      "cell_type": "markdown",
      "metadata": {
        "id": "bwzJkCgnXK1J"
      },
      "source": [
        "Cortes similares a listas. Listagem de caracteres"
      ]
    },
    {
      "cell_type": "markdown",
      "metadata": {
        "id": "q2u4NNbxXWmd"
      },
      "source": [
        "## Seleção de elementos em Strings\n"
      ]
    },
    {
      "cell_type": "code",
      "execution_count": null,
      "metadata": {
        "id": "EpHTin4AzrPy"
      },
      "outputs": [],
      "source": [
        "frase= 'Python é muito bacana!'"
      ]
    },
    {
      "cell_type": "code",
      "execution_count": null,
      "metadata": {
        "colab": {
          "base_uri": "https://localhost:8080/",
          "height": 35
        },
        "id": "mqOxy4lPzxQD",
        "outputId": "9193d6f6-b857-4a32-b9e0-d92583b26aa7"
      },
      "outputs": [
        {
          "data": {
            "application/vnd.google.colaboratory.intrinsic+json": {
              "type": "string"
            },
            "text/plain": [
              "'Python'"
            ]
          },
          "execution_count": 2,
          "metadata": {},
          "output_type": "execute_result"
        }
      ],
      "source": [
        "frase[:6]"
      ]
    },
    {
      "cell_type": "code",
      "execution_count": null,
      "metadata": {
        "colab": {
          "base_uri": "https://localhost:8080/",
          "height": 35
        },
        "id": "BKJSr5vUz0Jl",
        "outputId": "8b62afe7-ed30-4819-b4d5-e4203aee1990"
      },
      "outputs": [
        {
          "data": {
            "application/vnd.google.colaboratory.intrinsic+json": {
              "type": "string"
            },
            "text/plain": [
              "'muito'"
            ]
          },
          "execution_count": 3,
          "metadata": {},
          "output_type": "execute_result"
        }
      ],
      "source": [
        "frase[9:14]"
      ]
    },
    {
      "cell_type": "code",
      "execution_count": null,
      "metadata": {
        "colab": {
          "base_uri": "https://localhost:8080/",
          "height": 35
        },
        "id": "wS8HlFHvz28_",
        "outputId": "92f976be-c894-4b31-a429-dde2dafe9f30"
      },
      "outputs": [
        {
          "data": {
            "application/vnd.google.colaboratory.intrinsic+json": {
              "type": "string"
            },
            "text/plain": [
              "'muito bacana!'"
            ]
          },
          "execution_count": 4,
          "metadata": {},
          "output_type": "execute_result"
        }
      ],
      "source": [
        "frase[9:]"
      ]
    },
    {
      "cell_type": "code",
      "execution_count": null,
      "metadata": {
        "colab": {
          "base_uri": "https://localhost:8080/",
          "height": 35
        },
        "id": "kob4DenUz53s",
        "outputId": "a18c3a6c-d673-46c2-da9a-07a0355ee318"
      },
      "outputs": [
        {
          "data": {
            "application/vnd.google.colaboratory.intrinsic+json": {
              "type": "string"
            },
            "text/plain": [
              "'bacana'"
            ]
          },
          "execution_count": 5,
          "metadata": {},
          "output_type": "execute_result"
        }
      ],
      "source": [
        "frase[15:21]"
      ]
    },
    {
      "cell_type": "markdown",
      "metadata": {
        "id": "EM3MPE978H1A"
      },
      "source": [
        "#Métodos de Strings\n"
      ]
    },
    {
      "cell_type": "code",
      "execution_count": null,
      "metadata": {
        "id": "UVxiIghb8Myz"
      },
      "outputs": [],
      "source": [
        "#lower, upper, capiyalize, strip, split, replace, join"
      ]
    },
    {
      "cell_type": "code",
      "execution_count": null,
      "metadata": {
        "colab": {
          "base_uri": "https://localhost:8080/",
          "height": 35
        },
        "id": "4HmjyaLq9CkI",
        "outputId": "dc1c9692-ff2c-4c1d-e38e-f84870a445a8"
      },
      "outputs": [
        {
          "data": {
            "application/vnd.google.colaboratory.intrinsic+json": {
              "type": "string"
            },
            "text/plain": [
              "'Ricardo Rocha'"
            ]
          },
          "execution_count": 25,
          "metadata": {},
          "output_type": "execute_result"
        }
      ],
      "source": [
        "nome= 'Ricardo Rocha'\n",
        "nome"
      ]
    },
    {
      "cell_type": "code",
      "execution_count": null,
      "metadata": {
        "colab": {
          "base_uri": "https://localhost:8080/",
          "height": 35
        },
        "id": "SWmDjarO9JCK",
        "outputId": "53c4d743-6cec-439a-913f-ff36e79743fe"
      },
      "outputs": [
        {
          "data": {
            "application/vnd.google.colaboratory.intrinsic+json": {
              "type": "string"
            },
            "text/plain": [
              "'ricardo rocha'"
            ]
          },
          "execution_count": 9,
          "metadata": {},
          "output_type": "execute_result"
        }
      ],
      "source": [
        "nome.lower()\n",
        "#permite que veja todos os caracteres em letra minusculas, mas não altera o objeto.\n",
        "# para alterar\n",
        "\n",
        "nome= nome.lower()\n",
        "nome"
      ]
    },
    {
      "cell_type": "code",
      "execution_count": null,
      "metadata": {
        "colab": {
          "base_uri": "https://localhost:8080/",
          "height": 35
        },
        "id": "Z-Hs_-Iq9Nnk",
        "outputId": "214ddfab-cf9e-45c6-de09-2feb55e897d5"
      },
      "outputs": [
        {
          "data": {
            "application/vnd.google.colaboratory.intrinsic+json": {
              "type": "string"
            },
            "text/plain": [
              "'RICARDO ROCHA'"
            ]
          },
          "execution_count": 7,
          "metadata": {},
          "output_type": "execute_result"
        }
      ],
      "source": [
        "nome.upper()\n",
        "# em LETRA maiúscula"
      ]
    },
    {
      "cell_type": "code",
      "execution_count": null,
      "metadata": {
        "colab": {
          "base_uri": "https://localhost:8080/",
          "height": 35
        },
        "id": "do35o7bq9jtU",
        "outputId": "54894288-8562-491f-8d50-54f574ff0d38"
      },
      "outputs": [
        {
          "data": {
            "application/vnd.google.colaboratory.intrinsic+json": {
              "type": "string"
            },
            "text/plain": [
              "'Ricardo rocha'"
            ]
          },
          "execution_count": 12,
          "metadata": {},
          "output_type": "execute_result"
        }
      ],
      "source": [
        "nome.capitalize()\n",
        "#deixa a  primeira letra Maiúscula"
      ]
    },
    {
      "cell_type": "code",
      "execution_count": null,
      "metadata": {
        "colab": {
          "base_uri": "https://localhost:8080/",
          "height": 35
        },
        "id": "l95Tzm7w96R6",
        "outputId": "b349f537-1be7-4fdb-8cad-3d97f687be22"
      },
      "outputs": [
        {
          "data": {
            "application/vnd.google.colaboratory.intrinsic+json": {
              "type": "string"
            },
            "text/plain": [
              "'ricardo rocha'"
            ]
          },
          "execution_count": 13,
          "metadata": {},
          "output_type": "execute_result"
        }
      ],
      "source": [
        "nome.strip()"
      ]
    },
    {
      "cell_type": "code",
      "execution_count": null,
      "metadata": {
        "colab": {
          "base_uri": "https://localhost:8080/",
          "height": 35
        },
        "id": "zareL7Wv-DZy",
        "outputId": "231e13ea-04ec-4f16-d9a0-94db6f872673"
      },
      "outputs": [
        {
          "data": {
            "application/vnd.google.colaboratory.intrinsic+json": {
              "type": "string"
            },
            "text/plain": [
              "'Ricardo Rocha'"
            ]
          },
          "execution_count": 14,
          "metadata": {},
          "output_type": "execute_result"
        }
      ],
      "source": [
        "'       Ricardo Rocha  '.strip()\n",
        "#elimina os espaços desnecessários, tanto no final quanto no começo."
      ]
    },
    {
      "cell_type": "code",
      "execution_count": null,
      "metadata": {
        "colab": {
          "base_uri": "https://localhost:8080/",
          "height": 35
        },
        "id": "1txgL266-Pk0",
        "outputId": "ef7dee5a-38e2-45a6-f275-80ab8a1da335"
      },
      "outputs": [
        {
          "data": {
            "application/vnd.google.colaboratory.intrinsic+json": {
              "type": "string"
            },
            "text/plain": [
              "'ricardo rocha'"
            ]
          },
          "execution_count": 15,
          "metadata": {},
          "output_type": "execute_result"
        }
      ],
      "source": [
        "nome.strip()\n",
        "# Divide o nome em duas strings"
      ]
    },
    {
      "cell_type": "code",
      "execution_count": null,
      "metadata": {
        "colab": {
          "base_uri": "https://localhost:8080/",
          "height": 35
        },
        "id": "udLgmWwS-bEb",
        "outputId": "18a21c1d-9ddc-4c33-9eea-75f376bb226c"
      },
      "outputs": [
        {
          "data": {
            "application/vnd.google.colaboratory.intrinsic+json": {
              "type": "string"
            },
            "text/plain": [
              "'icardo roch'"
            ]
          },
          "execution_count": 20,
          "metadata": {},
          "output_type": "execute_result"
        }
      ],
      "source": [
        "nome.strip('car')"
      ]
    },
    {
      "cell_type": "code",
      "execution_count": null,
      "metadata": {
        "colab": {
          "base_uri": "https://localhost:8080/",
          "height": 35
        },
        "id": "fsRfyTUS-oiM",
        "outputId": "5627b362-1d06-4230-e298-14a03e65440f"
      },
      "outputs": [
        {
          "data": {
            "application/vnd.google.colaboratory.intrinsic+json": {
              "type": "string"
            },
            "text/plain": [
              "'Ricardo Ferreira'"
            ]
          },
          "execution_count": 28,
          "metadata": {},
          "output_type": "execute_result"
        }
      ],
      "source": [
        "nome.replace('Rocha','Ferreira')\n",
        "# subtitui os termos que ele encontra no primeira, pelo que foi encontrado no segundo"
      ]
    },
    {
      "cell_type": "code",
      "execution_count": null,
      "metadata": {
        "colab": {
          "base_uri": "https://localhost:8080/",
          "height": 35
        },
        "id": "bLDLlCe2_Lgl",
        "outputId": "b6f48616-c6d0-4657-ec2a-588dbe01df88"
      },
      "outputs": [
        {
          "data": {
            "application/vnd.google.colaboratory.intrinsic+json": {
              "type": "string"
            },
            "text/plain": [
              "'abc'"
            ]
          },
          "execution_count": 31,
          "metadata": {},
          "output_type": "execute_result"
        }
      ],
      "source": [
        "letras = ['a', 'b', 'c']\n",
        "''.join(letras)"
      ]
    },
    {
      "cell_type": "code",
      "execution_count": null,
      "metadata": {
        "id": "xcOBMvjs-5QG"
      },
      "outputs": [],
      "source": [
        "py = list('Python')"
      ]
    },
    {
      "cell_type": "code",
      "execution_count": null,
      "metadata": {
        "colab": {
          "base_uri": "https://localhost:8080/"
        },
        "id": "52MU7N45_qFK",
        "outputId": "871aa257-ad16-41a5-ba88-1fed3f42ca53"
      },
      "outputs": [
        {
          "data": {
            "text/plain": [
              "['P', 'y', 't', 'h', 'o', 'n']"
            ]
          },
          "execution_count": 33,
          "metadata": {},
          "output_type": "execute_result"
        }
      ],
      "source": [
        "py"
      ]
    },
    {
      "cell_type": "code",
      "execution_count": null,
      "metadata": {
        "colab": {
          "base_uri": "https://localhost:8080/",
          "height": 35
        },
        "id": "0BXNu-6o_uc_",
        "outputId": "91a1adf6-ae73-47f5-d161-b79f262a5717"
      },
      "outputs": [
        {
          "data": {
            "application/vnd.google.colaboratory.intrinsic+json": {
              "type": "string"
            },
            "text/plain": [
              "'Python'"
            ]
          },
          "execution_count": 34,
          "metadata": {},
          "output_type": "execute_result"
        }
      ],
      "source": [
        "''.join(py)"
      ]
    },
    {
      "cell_type": "markdown",
      "metadata": {
        "id": "QOlaZVri_52M"
      },
      "source": [
        "#Variáveis nas Strings\n"
      ]
    },
    {
      "cell_type": "code",
      "execution_count": null,
      "metadata": {
        "id": "FmTt_ZGn_9RS"
      },
      "outputs": [],
      "source": [
        "#.format, f'string"
      ]
    },
    {
      "cell_type": "code",
      "execution_count": null,
      "metadata": {
        "colab": {
          "base_uri": "https://localhost:8080/",
          "height": 35
        },
        "id": "-Jivl_vRAACA",
        "outputId": "f255cb5a-18ce-4b63-af9c-96031d86ff4d"
      },
      "outputs": [
        {
          "data": {
            "application/vnd.google.colaboratory.intrinsic+json": {
              "type": "string"
            },
            "text/plain": [
              "'Meu nome é Damallys e minha idade é 26 anos'"
            ]
          },
          "execution_count": 43,
          "metadata": {},
          "output_type": "execute_result"
        }
      ],
      "source": [
        "nome ='Damallys'\n",
        "idade = 26\n",
        "\n",
        "frase = 'Meu nome é {} e minha idade é {} anos'.format(nome, idade)\n",
        "frase"
      ]
    },
    {
      "cell_type": "code",
      "execution_count": null,
      "metadata": {
        "colab": {
          "base_uri": "https://localhost:8080/",
          "height": 35
        },
        "id": "z_6NndvNAvAV",
        "outputId": "c0da47d0-a3b1-4992-b5d9-2b3a6fc96230"
      },
      "outputs": [
        {
          "data": {
            "application/vnd.google.colaboratory.intrinsic+json": {
              "type": "string"
            },
            "text/plain": [
              "'Meu nome é Damallys e minha idade é 26 anos'"
            ]
          },
          "execution_count": 44,
          "metadata": {},
          "output_type": "execute_result"
        }
      ],
      "source": [
        "frase2 = f'Meu nome é {nome} e minha idade é {idade} anos'\n",
        "frase2"
      ]
    },
    {
      "cell_type": "markdown",
      "metadata": {
        "id": "h__hI_7RiFxM"
      },
      "source": [
        "# Aula 6 - Booleanos, Comparadores e Condicionais\n"
      ]
    },
    {
      "cell_type": "markdown",
      "metadata": {
        "id": "cYPDrPkrilva"
      },
      "source": []
    },
    {
      "cell_type": "code",
      "execution_count": null,
      "metadata": {
        "colab": {
          "base_uri": "https://localhost:8080/"
        },
        "id": "MfTbotXSimet",
        "outputId": "d0cfc085-fb68-4ab8-8429-c9720781a6a9"
      },
      "outputs": [
        {
          "data": {
            "text/plain": [
              "True"
            ]
          },
          "execution_count": 1,
          "metadata": {},
          "output_type": "execute_result"
        }
      ],
      "source": [
        "# igualdade \n",
        "True"
      ]
    },
    {
      "cell_type": "code",
      "execution_count": null,
      "metadata": {
        "colab": {
          "base_uri": "https://localhost:8080/"
        },
        "id": "cLkLMeLtiz3d",
        "outputId": "5f54a187-8a66-4dfa-cec8-6b25bfaaea4d"
      },
      "outputs": [
        {
          "data": {
            "text/plain": [
              "bool"
            ]
          },
          "execution_count": 2,
          "metadata": {},
          "output_type": "execute_result"
        }
      ],
      "source": [
        "type(True)"
      ]
    },
    {
      "cell_type": "code",
      "execution_count": null,
      "metadata": {
        "id": "vwv-LJ54i4tT"
      },
      "outputs": [],
      "source": [
        "a= 12\n",
        "b= 25"
      ]
    },
    {
      "cell_type": "code",
      "execution_count": null,
      "metadata": {
        "colab": {
          "base_uri": "https://localhost:8080/"
        },
        "id": "gecdSCshi9Eb",
        "outputId": "4d4396a3-4713-4226-c87b-5e48ea8d2a95"
      },
      "outputs": [
        {
          "data": {
            "text/plain": [
              "False"
            ]
          },
          "execution_count": 10,
          "metadata": {},
          "output_type": "execute_result"
        }
      ],
      "source": [
        "#igualdade\n",
        "a == b"
      ]
    },
    {
      "cell_type": "code",
      "execution_count": null,
      "metadata": {
        "colab": {
          "base_uri": "https://localhost:8080/"
        },
        "id": "ik6c9qxYjR7e",
        "outputId": "bd1d6cfd-0e2d-4f97-9f23-d0d70e15d050"
      },
      "outputs": [
        {
          "data": {
            "text/plain": [
              "True"
            ]
          },
          "execution_count": 11,
          "metadata": {},
          "output_type": "execute_result"
        }
      ],
      "source": [
        "#diferença\n",
        "a != b"
      ]
    },
    {
      "cell_type": "code",
      "execution_count": null,
      "metadata": {
        "colab": {
          "base_uri": "https://localhost:8080/"
        },
        "id": "SRbBjLK2jWXB",
        "outputId": "1ededf4d-1f9b-4ee0-e221-23d9f4dc6498"
      },
      "outputs": [
        {
          "data": {
            "text/plain": [
              "True"
            ]
          },
          "execution_count": 12,
          "metadata": {},
          "output_type": "execute_result"
        }
      ],
      "source": [
        "# desigualdade\n",
        "a <= b"
      ]
    },
    {
      "cell_type": "code",
      "execution_count": null,
      "metadata": {
        "colab": {
          "base_uri": "https://localhost:8080/"
        },
        "id": "JtEdFO8lnhKQ",
        "outputId": "aab9e4e0-14cf-4b11-899b-f9fa20b8b439"
      },
      "outputs": [
        {
          "data": {
            "text/plain": [
              "True"
            ]
          },
          "execution_count": 13,
          "metadata": {},
          "output_type": "execute_result"
        }
      ],
      "source": [
        "a<b"
      ]
    },
    {
      "cell_type": "code",
      "execution_count": null,
      "metadata": {
        "colab": {
          "base_uri": "https://localhost:8080/"
        },
        "id": "PqTvTtr1nhVa",
        "outputId": "6a4a02f4-328c-4aab-c26d-45f1bcc4250e"
      },
      "outputs": [
        {
          "data": {
            "text/plain": [
              "False"
            ]
          },
          "execution_count": 14,
          "metadata": {},
          "output_type": "execute_result"
        }
      ],
      "source": [
        "a>b"
      ]
    },
    {
      "cell_type": "code",
      "execution_count": null,
      "metadata": {
        "colab": {
          "base_uri": "https://localhost:8080/"
        },
        "id": "zxWcDwx7nhdx",
        "outputId": "933282e0-0bd8-4319-e06b-318a1d0e40d7"
      },
      "outputs": [
        {
          "data": {
            "text/plain": [
              "False"
            ]
          },
          "execution_count": 16,
          "metadata": {},
          "output_type": "execute_result"
        }
      ],
      "source": [
        "a >= b"
      ]
    },
    {
      "cell_type": "code",
      "execution_count": null,
      "metadata": {
        "colab": {
          "base_uri": "https://localhost:8080/"
        },
        "id": "ypkDSbSqntP8",
        "outputId": "59ca1c92-80c0-40d5-b4f0-45434dfd7ebe"
      },
      "outputs": [
        {
          "data": {
            "text/plain": [
              "True"
            ]
          },
          "execution_count": 17,
          "metadata": {},
          "output_type": "execute_result"
        }
      ],
      "source": [
        "type(33) == int"
      ]
    },
    {
      "cell_type": "code",
      "execution_count": null,
      "metadata": {
        "colab": {
          "base_uri": "https://localhost:8080/"
        },
        "id": "UqwTVfJ0n3Oc",
        "outputId": "313499d8-44d5-4a1a-9eb7-9076e7c6e10b"
      },
      "outputs": [
        {
          "data": {
            "text/plain": [
              "True"
            ]
          },
          "execution_count": 19,
          "metadata": {},
          "output_type": "execute_result"
        }
      ],
      "source": [
        "'Ricardo' == 'Ricardo'"
      ]
    },
    {
      "cell_type": "markdown",
      "metadata": {
        "id": "qvAwDApioU_C"
      },
      "source": [
        "Alguns conectivos logicos: \\\\\n",
        "**and** para **e** ; \\\\\n",
        "**or**  para **ou** ; \\\\\n",
        "**not** para a negação de algo.\n"
      ]
    },
    {
      "cell_type": "code",
      "execution_count": null,
      "metadata": {
        "colab": {
          "base_uri": "https://localhost:8080/"
        },
        "id": "aKu8kGOBoX1y",
        "outputId": "fe7bf8cc-a805-4167-817b-9923404102b7"
      },
      "outputs": [
        {
          "data": {
            "text/plain": [
              "True"
            ]
          },
          "execution_count": 20,
          "metadata": {},
          "output_type": "execute_result"
        }
      ],
      "source": [
        "True and True "
      ]
    },
    {
      "cell_type": "code",
      "execution_count": null,
      "metadata": {
        "colab": {
          "base_uri": "https://localhost:8080/"
        },
        "id": "OGBw8rl0rlec",
        "outputId": "f75ae7c0-6e3e-499a-e61a-2d16311d4551"
      },
      "outputs": [
        {
          "data": {
            "text/plain": [
              "False"
            ]
          },
          "execution_count": 21,
          "metadata": {},
          "output_type": "execute_result"
        }
      ],
      "source": [
        "True and False"
      ]
    },
    {
      "cell_type": "code",
      "execution_count": null,
      "metadata": {
        "colab": {
          "base_uri": "https://localhost:8080/"
        },
        "id": "MrUFRj4frp4W",
        "outputId": "9bae7a44-64e7-4f9c-c084-fb0e9d6c2460"
      },
      "outputs": [
        {
          "data": {
            "text/plain": [
              "False"
            ]
          },
          "execution_count": 22,
          "metadata": {},
          "output_type": "execute_result"
        }
      ],
      "source": [
        "False and False "
      ]
    },
    {
      "cell_type": "code",
      "execution_count": null,
      "metadata": {
        "colab": {
          "base_uri": "https://localhost:8080/"
        },
        "id": "mK7ThaEsrstN",
        "outputId": "8bd42068-d0b1-44c3-cfe3-34dc5193b9f3"
      },
      "outputs": [
        {
          "data": {
            "text/plain": [
              "True"
            ]
          },
          "execution_count": 23,
          "metadata": {},
          "output_type": "execute_result"
        }
      ],
      "source": [
        "True or True "
      ]
    },
    {
      "cell_type": "code",
      "execution_count": null,
      "metadata": {
        "colab": {
          "base_uri": "https://localhost:8080/"
        },
        "id": "7Rvvgdakrsv-",
        "outputId": "fe77699b-4358-469c-e35c-5b194724b5ca"
      },
      "outputs": [
        {
          "data": {
            "text/plain": [
              "True"
            ]
          },
          "execution_count": 24,
          "metadata": {},
          "output_type": "execute_result"
        }
      ],
      "source": [
        "True or False "
      ]
    },
    {
      "cell_type": "code",
      "execution_count": null,
      "metadata": {
        "colab": {
          "base_uri": "https://localhost:8080/"
        },
        "id": "iwx6M3XnrsyY",
        "outputId": "296e7c33-c600-4da3-97a7-95f5b5ebd4d2"
      },
      "outputs": [
        {
          "data": {
            "text/plain": [
              "False"
            ]
          },
          "execution_count": 25,
          "metadata": {},
          "output_type": "execute_result"
        }
      ],
      "source": [
        "False or False "
      ]
    },
    {
      "cell_type": "code",
      "execution_count": null,
      "metadata": {
        "colab": {
          "base_uri": "https://localhost:8080/"
        },
        "id": "F9AmHDbMrs00",
        "outputId": "d7d11903-1d65-43c5-99bf-18d5578058c0"
      },
      "outputs": [
        {
          "data": {
            "text/plain": [
              "False"
            ]
          },
          "execution_count": 26,
          "metadata": {},
          "output_type": "execute_result"
        }
      ],
      "source": [
        "not True "
      ]
    },
    {
      "cell_type": "code",
      "execution_count": null,
      "metadata": {
        "colab": {
          "base_uri": "https://localhost:8080/"
        },
        "id": "06YqrSpOsHm-",
        "outputId": "2736cee8-4b1d-4627-ef70-3d1b4aa3c5a2"
      },
      "outputs": [
        {
          "data": {
            "text/plain": [
              "True"
            ]
          },
          "execution_count": 27,
          "metadata": {},
          "output_type": "execute_result"
        }
      ],
      "source": [
        "  not False "
      ]
    },
    {
      "cell_type": "code",
      "execution_count": null,
      "metadata": {
        "id": "zSa8xNarsLj5"
      },
      "outputs": [],
      "source": [
        "#any, all"
      ]
    },
    {
      "cell_type": "code",
      "execution_count": null,
      "metadata": {
        "colab": {
          "base_uri": "https://localhost:8080/"
        },
        "id": "uYCdiKT9sLzv",
        "outputId": "80af569c-1fa4-4cf1-8dde-fd949f1847bd"
      },
      "outputs": [
        {
          "data": {
            "text/plain": [
              "True"
            ]
          },
          "execution_count": 29,
          "metadata": {},
          "output_type": "execute_result"
        }
      ],
      "source": [
        "any([True, True, False, False])"
      ]
    },
    {
      "cell_type": "code",
      "execution_count": null,
      "metadata": {
        "colab": {
          "base_uri": "https://localhost:8080/"
        },
        "id": "gtvtb2TvsL2T",
        "outputId": "e0af3ebb-0283-4468-95e3-43c6821a044a"
      },
      "outputs": [
        {
          "data": {
            "text/plain": [
              "False"
            ]
          },
          "execution_count": 30,
          "metadata": {},
          "output_type": "execute_result"
        }
      ],
      "source": [
        "all ([True, True, False, False])"
      ]
    },
    {
      "cell_type": "code",
      "execution_count": null,
      "metadata": {
        "colab": {
          "base_uri": "https://localhost:8080/"
        },
        "id": "4fUYTV2MsyY2",
        "outputId": "30179f7c-c64f-402c-b5fa-7d74829eec47"
      },
      "outputs": [
        {
          "data": {
            "text/plain": [
              "True"
            ]
          },
          "execution_count": 32,
          "metadata": {},
          "output_type": "execute_result"
        }
      ],
      "source": [
        "all ([True, True, True, True])"
      ]
    },
    {
      "cell_type": "code",
      "execution_count": null,
      "metadata": {
        "id": "SNX25-V2sL5F"
      },
      "outputs": [],
      "source": []
    },
    {
      "cell_type": "markdown",
      "metadata": {
        "id": "hCUR4E7aNtM0"
      },
      "source": [
        "**## Condicionais IF, ELIF, ELSE**"
      ]
    },
    {
      "cell_type": "code",
      "execution_count": null,
      "metadata": {
        "id": "ak6_RX2pOHKs"
      },
      "outputs": [],
      "source": [
        "# sintaxe IF-ELSE geral\n",
        "if condição: \n",
        "    executa aqui\n",
        "else:\n",
        "    executa aqui\n",
        "\n",
        "# sintaxe IF-ELIF-ELSE geral\n",
        "if condição:\n",
        "    executa aqui\n",
        "elif outra_condição:\n",
        "    executa aqui\n",
        "else:\n",
        "    executa aqui\n",
        "\n",
        "#não executar essa célula!"
      ]
    },
    {
      "cell_type": "code",
      "execution_count": null,
      "metadata": {
        "colab": {
          "base_uri": "https://localhost:8080/"
        },
        "id": "laI62RlfONKP",
        "outputId": "67426300-68d8-4639-8710-4bf658aa43b2"
      },
      "outputs": [
        {
          "name": "stdout",
          "output_type": "stream",
          "text": [
            "Delta MENOR do que ZERO\n",
            "Não há soluções reais.\n"
          ]
        }
      ],
      "source": [
        " # coeficientes de uma equação do segundo grau\n",
        "\n",
        "a = 3\n",
        "b = 2\n",
        "c = 3   \n",
        "\n",
        "delta = b**2 - 4*a*c\n",
        "\n",
        "if delta > 0:\n",
        "    raiz1 = (-b + delta**(1/2))/(2*a)\n",
        "    raiz2 = (-b - delta**(1/2))/(2*a)\n",
        "    print('Delta MAIOR do que ZERO')\n",
        "    print(f'As raizes são {raiz1} e {raiz2}.')\n",
        "\n",
        "elif delta == 0:\n",
        "    raiz = -b/(2*a)\n",
        "    print('Delta IGUAL a ZERO')\n",
        "    print(f'A raiz é {raiz}.')\n",
        "\n",
        "else: \n",
        "    print('Delta MENOR do que ZERO')\n",
        "    print('Não há soluções reais.') "
      ]
    },
    {
      "cell_type": "code",
      "execution_count": null,
      "metadata": {
        "id": "FlRsq1C0OzSc"
      },
      "outputs": [],
      "source": [
        "# coeficientes de uma equação do segundo grau\n",
        "a= 2\n",
        "b= 3\n",
        "c= 1"
      ]
    },
    {
      "cell_type": "code",
      "execution_count": null,
      "metadata": {
        "colab": {
          "base_uri": "https://localhost:8080/"
        },
        "id": "qLEo9b61O-b6",
        "outputId": "836e8c67-096d-43d6-881d-076289de78cd"
      },
      "outputs": [
        {
          "name": "stdout",
          "output_type": "stream",
          "text": [
            "Delta maior do que ZERO\n",
            "As raizes são -0.5 e -1.0.\n"
          ]
        }
      ],
      "source": [
        "# coeficientes de uma equação do segundo grau\n",
        "a= 2\n",
        "b= 3\n",
        "c= 1\n",
        "\n",
        "delta = b**2 - 4*a*c\n",
        "\n",
        "if delta > 0:\n",
        "    raiz1= (-b + delta**(1/2))/(2*a)\n",
        "    raiz2= (-b - delta**(1/2))/(2*a)\n",
        "    print('Delta maior do que ZERO')\n",
        "    print(f'As raizes são {raiz1} e {raiz2}.')\n",
        "\n",
        "elif delta == 0:\n",
        "    raiz= -b/(2*a)\n",
        "    print('Delta igual a ZERO')\n",
        "    print(f'A raiz é {raiz}')\n",
        "\n",
        "else: \n",
        "    print('Delta MENOR do que ZERO')\n",
        "    print('Não há solução reais.')"
      ]
    },
    {
      "cell_type": "markdown",
      "metadata": {
        "id": "mqlmNUvAQnfa"
      },
      "source": [
        "Exercício Proposto \n",
        "Um algoritmo classifica clientes de um banco de acordo com a seguinte regra:\n",
        "\n",
        "    Score entre 0 e 500 são clientes de alto risco.\n",
        "    Score entre 500 e 800 são clientes de médio risco.\n",
        "    Score entre 800 e 1000 são clientes de baixo risco.\n",
        "\n",
        "O cliente entra com 3 variáveis: idade (numero inteiro 0-75), renda (numero real 0-10000) e status_emprego (0 para desempregado e 1 para empregado).\n",
        "\n",
        "O Score é calculado da seguinte forma: se o cliente for desempregado, então\n",
        "\n",
        "Score=455(idade/75+renda/10000)\n",
        "\n",
        "Se empregado, então\n",
        "\n",
        "Score=490(idade/75+renda/10000)\n",
        "\n",
        "Faça um programa que retorne, dado as 3 variáveis de entrada, o Score e a faixa de risco do cliente. "
      ]
    },
    {
      "cell_type": "code",
      "execution_count": null,
      "metadata": {
        "id": "D77VjPdKShKE"
      },
      "outputs": [],
      "source": [
        "## Exercício Proposto\n",
        "idade= input('Entre com a sua idade: ') \n",
        "renda= input('Entre com o valor de sua renda mensal (nº real 0 - 10000): ')\n",
        "\n",
        "desempregado = 0\n",
        "empregado = 1\n",
        "status_emprego: input('Entre com 0 para desempregado e 1 para empregado: ') \n",
        "\n",
        "if \n",
        "\n",
        "nome= input('Entre com o seu nome: ')  \n",
        "q= float(input('Entre com a distância da corrida (em km):'))\n",
        "#int (numuro inteiro)\n",
        "#float (numero real com quantas decimais eu quiser )\n",
        "\n",
        "simples= 6 + 0.735 * q\n",
        "premium= 10 + 0.6 * q + 0.07 * q**2\n",
        "entrega= 6 + 0.65 * q - 0.04 * q**2 \n",
        "\n",
        "print('Olá', nome)\n",
        "print('A corrida SIMPLES ficará em:', round(simples,2))\n",
        "print('A corrida PREMIUM ficará em:', round(premium,2))\n",
        "print('A corrida ENTREGA ficará em:', round(entrega,2))\n",
        "\n",
        "\n",
        "\n",
        "renda= input('Entre com o valor de sua renda mensal (nº real 0 - 10000): ')\n",
        "status_emprego: input('Entre com 0 para desempregado e 1 para empregado: ') "
      ]
    },
    {
      "cell_type": "markdown",
      "metadata": {
        "id": "UKAH77ve6e8E"
      },
      "source": [
        "# Aula 7 - Interadores FOR e WHILE"
      ]
    },
    {
      "cell_type": "markdown",
      "metadata": {
        "id": "W_sLiAxlRrHM"
      },
      "source": []
    },
    {
      "cell_type": "markdown",
      "metadata": {
        "id": "HR6EyV7tNdOw"
      },
      "source": [
        "# Aula 8 - Importação de Bibliotecas e Definição de Funções\n"
      ]
    },
    {
      "cell_type": "code",
      "execution_count": null,
      "metadata": {
        "id": "9Oi4_B0INkdS"
      },
      "outputs": [],
      "source": [
        "from math import pi"
      ]
    },
    {
      "cell_type": "code",
      "execution_count": null,
      "metadata": {
        "colab": {
          "base_uri": "https://localhost:8080/",
          "height": 166
        },
        "id": "brcl-o0jQNUe",
        "outputId": "643d4b11-aadd-48da-c7a6-8fc3ca4b3f02"
      },
      "outputs": [
        {
          "ename": "NameError",
          "evalue": "ignored",
          "output_type": "error",
          "traceback": [
            "\u001b[0;31m---------------------------------------------------------------------------\u001b[0m",
            "\u001b[0;31mNameError\u001b[0m                                 Traceback (most recent call last)",
            "\u001b[0;32m<ipython-input-1-f84ab820532c>\u001b[0m in \u001b[0;36m<cell line: 1>\u001b[0;34m()\u001b[0m\n\u001b[0;32m----> 1\u001b[0;31m \u001b[0mpi\u001b[0m\u001b[0;34m\u001b[0m\u001b[0;34m\u001b[0m\u001b[0m\n\u001b[0m",
            "\u001b[0;31mNameError\u001b[0m: name 'pi' is not defined"
          ]
        }
      ],
      "source": [
        "pi"
      ]
    },
    {
      "cell_type": "code",
      "execution_count": null,
      "metadata": {
        "id": "vJDjACRMQNW3"
      },
      "outputs": [],
      "source": [
        "from math import pi as PI"
      ]
    },
    {
      "cell_type": "code",
      "execution_count": null,
      "metadata": {
        "colab": {
          "base_uri": "https://localhost:8080/",
          "height": 166
        },
        "id": "f8UNJTVxQNZa",
        "outputId": "b3c79974-f686-46a6-f2cd-7437a2985066"
      },
      "outputs": [
        {
          "ename": "NameError",
          "evalue": "ignored",
          "output_type": "error",
          "traceback": [
            "\u001b[0;31m---------------------------------------------------------------------------\u001b[0m",
            "\u001b[0;31mNameError\u001b[0m                                 Traceback (most recent call last)",
            "\u001b[0;32m<ipython-input-2-2c07e5bf6ef5>\u001b[0m in \u001b[0;36m<cell line: 1>\u001b[0;34m()\u001b[0m\n\u001b[0;32m----> 1\u001b[0;31m \u001b[0mPI\u001b[0m\u001b[0;34m\u001b[0m\u001b[0;34m\u001b[0m\u001b[0m\n\u001b[0m",
            "\u001b[0;31mNameError\u001b[0m: name 'PI' is not defined"
          ]
        }
      ],
      "source": [
        "PI"
      ]
    },
    {
      "cell_type": "code",
      "execution_count": null,
      "metadata": {
        "id": "wYvcI_FLQNcQ"
      },
      "outputs": [],
      "source": [
        "import math "
      ]
    },
    {
      "cell_type": "code",
      "execution_count": null,
      "metadata": {
        "colab": {
          "base_uri": "https://localhost:8080/"
        },
        "id": "2IQN5EKCQbwZ",
        "outputId": "810420f5-644a-4cd6-f60c-4b95a1d683b2"
      },
      "outputs": [
        {
          "data": {
            "text/plain": [
              "3.141592653589793"
            ]
          },
          "execution_count": 4,
          "metadata": {},
          "output_type": "execute_result"
        }
      ],
      "source": [
        "math.pi"
      ]
    },
    {
      "cell_type": "code",
      "execution_count": null,
      "metadata": {
        "id": "ON4BFoOTQbzA"
      },
      "outputs": [],
      "source": [
        "import math as m"
      ]
    },
    {
      "cell_type": "code",
      "execution_count": null,
      "metadata": {
        "colab": {
          "base_uri": "https://localhost:8080/"
        },
        "id": "Id3Tgxm5Qb2K",
        "outputId": "ccccee96-4d31-444f-c774-cc42c6c32223"
      },
      "outputs": [
        {
          "data": {
            "text/plain": [
              "1.7724538509055159"
            ]
          },
          "execution_count": 6,
          "metadata": {},
          "output_type": "execute_result"
        }
      ],
      "source": [
        "m.sqrt(m.pi)"
      ]
    },
    {
      "cell_type": "code",
      "execution_count": null,
      "metadata": {
        "id": "lUJrpGrFPR-E"
      },
      "outputs": [],
      "source": [
        "from math import *"
      ]
    },
    {
      "cell_type": "code",
      "execution_count": null,
      "metadata": {
        "colab": {
          "base_uri": "https://localhost:8080/"
        },
        "id": "zgdyp6JeRYyo",
        "outputId": "e8b2182f-71bf-4fa0-e7a8-72b32899ca56"
      },
      "outputs": [
        {
          "data": {
            "text/plain": [
              "1.7724538509055159"
            ]
          },
          "execution_count": 8,
          "metadata": {},
          "output_type": "execute_result"
        }
      ],
      "source": [
        "math.sqrt(math.pi)"
      ]
    },
    {
      "cell_type": "code",
      "execution_count": null,
      "metadata": {
        "id": "9NyyWUemRY7f"
      },
      "outputs": [],
      "source": [
        "import random \n",
        "#dá valores aleatórios"
      ]
    },
    {
      "cell_type": "code",
      "execution_count": null,
      "metadata": {
        "colab": {
          "base_uri": "https://localhost:8080/"
        },
        "id": "BTnqVDLyRY-S",
        "outputId": "0370bdb6-84e4-4561-bb22-88041b90d182"
      },
      "outputs": [
        {
          "data": {
            "text/plain": [
              "[3, 4, 1, 0, 2]"
            ]
          },
          "execution_count": 2,
          "metadata": {},
          "output_type": "execute_result"
        }
      ],
      "source": [
        "random.sample(range(5), 5)"
      ]
    },
    {
      "cell_type": "code",
      "execution_count": null,
      "metadata": {
        "colab": {
          "base_uri": "https://localhost:8080/"
        },
        "id": "T0FqYSq1RZBI",
        "outputId": "1acb38f2-892f-4b1e-ffe5-1f7fa176a89c"
      },
      "outputs": [
        {
          "data": {
            "text/plain": [
              "[43, 20, 41, 59, 56, 46]"
            ]
          },
          "execution_count": 9,
          "metadata": {},
          "output_type": "execute_result"
        }
      ],
      "source": [
        "random.sample(range(61),6)"
      ]
    },
    {
      "cell_type": "markdown",
      "metadata": {
        "id": "EKt5kdo4AbCp"
      },
      "source": [
        "##Definição de Função\n",
        "\n",
        "Uma função é umv recurso para não precisarmos repetir o mesmo código desnecessariamente"
      ]
    },
    {
      "cell_type": "code",
      "execution_count": null,
      "metadata": {
        "id": "bdDEQOm9RZDi"
      },
      "outputs": [],
      "source": [
        "def Mensagem (nome):\n",
        "    print ('-' * 50)\n",
        "    print (f'Seja Bem-Vindo, {nome}!')\n",
        "    print ('-' * 50)\n"
      ]
    },
    {
      "cell_type": "code",
      "execution_count": null,
      "metadata": {
        "colab": {
          "base_uri": "https://localhost:8080/"
        },
        "id": "P_BNSETZRZGV",
        "outputId": "8239eac6-06a9-4708-9f5f-dc229347ba91"
      },
      "outputs": [
        {
          "output_type": "stream",
          "name": "stdout",
          "text": [
            "--------------------------------------------------\n",
            "Seja Bem-Vindo, Damallys!\n",
            "--------------------------------------------------\n"
          ]
        }
      ],
      "source": [
        "Mensagem ('Damallys')"
      ]
    },
    {
      "cell_type": "code",
      "source": [
        "def Mensagem (nome):\n",
        "    print ('=' * 50)\n",
        "    print ('-' * 50)\n",
        "    print (f'Seja Bem-Vindo, {nome}!')\n",
        "    print ('-' * 50)\n",
        "    print ('=' * 50)\n"
      ],
      "metadata": {
        "id": "Mq-1chQhB_P8"
      },
      "execution_count": null,
      "outputs": []
    },
    {
      "cell_type": "code",
      "source": [
        "Mensagem ('Damallys')"
      ],
      "metadata": {
        "colab": {
          "base_uri": "https://localhost:8080/"
        },
        "id": "cmiAgOIlFWnz",
        "outputId": "a16ea6dc-7a08-446c-a798-22a69dfd909e"
      },
      "execution_count": null,
      "outputs": [
        {
          "output_type": "stream",
          "name": "stdout",
          "text": [
            "==================================================\n",
            "--------------------------------------------------\n",
            "Seja Bem-Vindo, Damallys!\n",
            "--------------------------------------------------\n",
            "==================================================\n"
          ]
        }
      ]
    },
    {
      "cell_type": "code",
      "source": [
        "def Mensagem (nome, tamanho):\n",
        "    print ('=' * 50)\n",
        "    print ('-' * 50)\n",
        "    print (f'Seja Bem-Vindo, {nome}!')\n",
        "    print ('-' * 50)\n",
        "    print ('=' * 50)"
      ],
      "metadata": {
        "id": "zK-USH0rFsMR"
      },
      "execution_count": null,
      "outputs": []
    },
    {
      "cell_type": "code",
      "source": [
        "Mensagem('Izabel', 30)"
      ],
      "metadata": {
        "colab": {
          "base_uri": "https://localhost:8080/"
        },
        "id": "ApMis63EFwLd",
        "outputId": "60a6a6f8-2d12-4e5f-8047-9708415c647b"
      },
      "execution_count": null,
      "outputs": [
        {
          "output_type": "stream",
          "name": "stdout",
          "text": [
            "==================================================\n",
            "--------------------------------------------------\n",
            "Seja Bem-Vindo, Izabel!\n",
            "--------------------------------------------------\n",
            "==================================================\n"
          ]
        }
      ]
    },
    {
      "cell_type": "code",
      "source": [
        "def Mensagem(nome):\n",
        "    frase = f' Seja Bem-vindo, {nome}!'\n",
        "    tamanho = len(frase) + 1\n",
        "    print('=' * tamanho)\n",
        "    print('-' * tamanho)\n",
        "    print(frase)\n",
        "    print('=' * tamanho)\n",
        "    print('-' * tamanho)"
      ],
      "metadata": {
        "id": "jUPabJ5UB_es"
      },
      "execution_count": null,
      "outputs": []
    },
    {
      "cell_type": "code",
      "source": [
        "Mensagem('Maria Izabel de Assis de Oliveira')"
      ],
      "metadata": {
        "colab": {
          "base_uri": "https://localhost:8080/"
        },
        "id": "9h3pyRTyGMNO",
        "outputId": "0d6aaca9-3483-43fc-b998-8d846cb31667"
      },
      "execution_count": null,
      "outputs": [
        {
          "output_type": "stream",
          "name": "stdout",
          "text": [
            "====================================================\n",
            "----------------------------------------------------\n",
            " Seja Bem-vindo, Maria Izabel de Assis de Oliveira!\n",
            "====================================================\n",
            "----------------------------------------------------\n"
          ]
        }
      ]
    },
    {
      "cell_type": "code",
      "source": [
        "def Mensagem(nome, caracter1 = '#', caracter2 = '*'):\n",
        "    frase = f' Seja Bem-vindo, {nome}!'\n",
        "    tamanho = len(frase) + 1\n",
        "    print(caracter1 * tamanho)\n",
        "    print(caracter2 * tamanho)\n",
        "    print(frase)\n",
        "    print(caracter2 * tamanho)\n",
        "    print(caracter1 * tamanho)"
      ],
      "metadata": {
        "id": "Ax09YZlnGA_t"
      },
      "execution_count": null,
      "outputs": []
    },
    {
      "cell_type": "code",
      "source": [
        "Mensagem('Izabel')"
      ],
      "metadata": {
        "colab": {
          "base_uri": "https://localhost:8080/"
        },
        "id": "09EcB4kOJkRE",
        "outputId": "b234840b-5709-4cc5-e2e1-20cdbf06ed60"
      },
      "execution_count": null,
      "outputs": [
        {
          "output_type": "stream",
          "name": "stdout",
          "text": [
            "#########################\n",
            "*************************\n",
            " Seja Bem-vindo, Izabel!\n",
            "*************************\n",
            "#########################\n"
          ]
        }
      ]
    },
    {
      "cell_type": "code",
      "source": [
        "Mensagem(nome= 'Damallys Oliveira', caracter1= '@', caracter2= '.')"
      ],
      "metadata": {
        "colab": {
          "base_uri": "https://localhost:8080/"
        },
        "id": "GoaeZffpJo92",
        "outputId": "792eebe3-aaab-482c-a130-240f0cb3a820"
      },
      "execution_count": null,
      "outputs": [
        {
          "output_type": "stream",
          "name": "stdout",
          "text": [
            "@@@@@@@@@@@@@@@@@@@@@@@@@@@@@@@@@@@@\n",
            "....................................\n",
            " Seja Bem-vindo, Damallys Oliveira!\n",
            "....................................\n",
            "@@@@@@@@@@@@@@@@@@@@@@@@@@@@@@@@@@@@\n"
          ]
        }
      ]
    },
    {
      "cell_type": "code",
      "source": [
        "Mensagem('Python', caracter2= '+')"
      ],
      "metadata": {
        "colab": {
          "base_uri": "https://localhost:8080/"
        },
        "id": "Kf45SdseKeJY",
        "outputId": "83afc35b-ec6e-4444-9c00-5118f8bd4a59"
      },
      "execution_count": null,
      "outputs": [
        {
          "output_type": "stream",
          "name": "stdout",
          "text": [
            "#########################\n",
            "+++++++++++++++++++++++++\n",
            " Seja Bem-vindo, Python!\n",
            "+++++++++++++++++++++++++\n",
            "#########################\n"
          ]
        }
      ]
    },
    {
      "cell_type": "code",
      "source": [
        "def SomaQuadrado(lista):\n",
        "    soma = 0\n",
        "    for item in lista: \n",
        "        soma += item**2\n",
        "    return soma"
      ],
      "metadata": {
        "id": "v8uF0_mrKjdO"
      },
      "execution_count": null,
      "outputs": []
    },
    {
      "cell_type": "code",
      "source": [
        "SomaQuadrado([1,2,3,4])"
      ],
      "metadata": {
        "colab": {
          "base_uri": "https://localhost:8080/"
        },
        "id": "Xj1rpw9jR1kW",
        "outputId": "315df80c-a192-499a-e8dc-897eb8158164"
      },
      "execution_count": null,
      "outputs": [
        {
          "output_type": "execute_result",
          "data": {
            "text/plain": [
              "30"
            ]
          },
          "metadata": {},
          "execution_count": 48
        }
      ]
    },
    {
      "cell_type": "code",
      "source": [
        "s= SomaQuadrado([1,2,3,4])"
      ],
      "metadata": {
        "id": "GyALFZpWSHCk"
      },
      "execution_count": null,
      "outputs": []
    },
    {
      "cell_type": "code",
      "source": [
        "s"
      ],
      "metadata": {
        "colab": {
          "base_uri": "https://localhost:8080/"
        },
        "id": "Qk0f1JaUSHJ-",
        "outputId": "fac5c9ea-6a74-41af-8abe-05b511f727fd"
      },
      "execution_count": null,
      "outputs": [
        {
          "output_type": "execute_result",
          "data": {
            "text/plain": [
              "30"
            ]
          },
          "metadata": {},
          "execution_count": 50
        }
      ]
    },
    {
      "cell_type": "code",
      "source": [
        "def SomaPotencia(lista, potencia = 2):\n",
        "    soma = 0\n",
        "    for item in lista:\n",
        "        soma += item**potencia\n",
        "    return soma"
      ],
      "metadata": {
        "id": "p3ZpGNLRSHMs"
      },
      "execution_count": null,
      "outputs": []
    },
    {
      "cell_type": "code",
      "source": [
        "SomaPotencia([1,2,3,4], potencia = 3)"
      ],
      "metadata": {
        "colab": {
          "base_uri": "https://localhost:8080/"
        },
        "id": "x5oFElNnSRSP",
        "outputId": "92d53dee-ebd1-44cf-af98-8ed351deb09e"
      },
      "execution_count": null,
      "outputs": [
        {
          "output_type": "execute_result",
          "data": {
            "text/plain": [
              "100"
            ]
          },
          "metadata": {},
          "execution_count": 53
        }
      ]
    },
    {
      "cell_type": "markdown",
      "source": [
        "Voltando no exemplo da fórmula de Bhaskara, fica bem conveniente quando colocamos no formato de função, para analisar as saídas de maneira mais prática."
      ],
      "metadata": {
        "id": "ZGzymESKTJ_X"
      }
    },
    {
      "cell_type": "code",
      "source": [
        "def Bhaskara(a, b, c):\n",
        "    # dando uma resposta adequada para quando o valor de a for igual a zero\n",
        "    if a == 0:\n",
        "        print('Quando a = 0, não se aplica Bhaskara.')\n",
        "    else:\n",
        "        delta = b**2 - 4*a*c\n",
        "\n",
        "        if delta > 0:\n",
        "            x1 = round((-b + delta**0.5)/(2*a), 3)\n",
        "            x2 = round((-b - delta**0.5)/(2*a), 3)\n",
        "            print(f'As raízes são {x1} e {x2}.')\n",
        "        elif delta == 0:\n",
        "            x = -b/(2*a)\n",
        "            print(f'A única raíz é {x}.')\n",
        "        else:\n",
        "            print('Não há soluções reais para essa equação.')"
      ],
      "metadata": {
        "id": "kh0DExXITJQl"
      },
      "execution_count": null,
      "outputs": []
    },
    {
      "cell_type": "code",
      "source": [
        "Bhaskara(3, 2, 0.9)"
      ],
      "metadata": {
        "colab": {
          "base_uri": "https://localhost:8080/"
        },
        "id": "XLANdf5OTQ5i",
        "outputId": "083336b9-00f1-44dc-dbfd-fa1d3789124f"
      },
      "execution_count": null,
      "outputs": [
        {
          "output_type": "stream",
          "name": "stdout",
          "text": [
            "Não há soluções reais para essa equação.\n"
          ]
        }
      ]
    },
    {
      "cell_type": "code",
      "source": [
        "Bhaskara(-3, 2, 0.9)"
      ],
      "metadata": {
        "colab": {
          "base_uri": "https://localhost:8080/"
        },
        "id": "FMIkX2JRTQ-G",
        "outputId": "7cb0741b-0ef1-414f-d31d-239c7d85dcf0"
      },
      "execution_count": null,
      "outputs": [
        {
          "output_type": "stream",
          "name": "stdout",
          "text": [
            "As raízes são -0.308 e 0.975.\n"
          ]
        }
      ]
    },
    {
      "cell_type": "code",
      "source": [
        "Bhaskara(1, -2, 1)"
      ],
      "metadata": {
        "colab": {
          "base_uri": "https://localhost:8080/"
        },
        "id": "yvN_PP0PTTlO",
        "outputId": "2e6569d4-43d8-4f3b-b3e8-4aa095c6d7c9"
      },
      "execution_count": null,
      "outputs": [
        {
          "output_type": "stream",
          "name": "stdout",
          "text": [
            "A única raíz é 1.0.\n"
          ]
        }
      ]
    },
    {
      "cell_type": "code",
      "source": [
        "Bhaskara(0, -2, 1)"
      ],
      "metadata": {
        "colab": {
          "base_uri": "https://localhost:8080/"
        },
        "id": "LFEjZCXaTRBK",
        "outputId": "6cd17e01-e98d-4c96-ecaa-75bd36541517"
      },
      "execution_count": null,
      "outputs": [
        {
          "output_type": "stream",
          "name": "stdout",
          "text": [
            "Quando a = 0, não se aplica Bhaskara.\n"
          ]
        }
      ]
    },
    {
      "cell_type": "markdown",
      "source": [
        "#AULA 9 - Conjuntos e Dicionários"
      ],
      "metadata": {
        "id": "1Ku9dIZ_XjoK"
      }
    },
    {
      "cell_type": "markdown",
      "source": [
        "##Dicionários \n",
        "Dicionários são objetos no python similares a conjuntos, mas permitem que sejam colocados chaves de referência para cada item. São definidos utilizando chaves **{ }**"
      ],
      "metadata": {
        "id": "8z6Itq05XpqP"
      }
    },
    {
      "cell_type": "code",
      "source": [
        "dicionario = {'nome': 'Ricardo', 'idade': 35, 'SangueA+': True, 'Notas': [5.5, 7.6, 8.8]}\n",
        "dicionario"
      ],
      "metadata": {
        "colab": {
          "base_uri": "https://localhost:8080/"
        },
        "id": "1sAtWUqzXoe4",
        "outputId": "7b3fa392-48ea-4d55-b74d-4806d49830a8"
      },
      "execution_count": null,
      "outputs": [
        {
          "output_type": "execute_result",
          "data": {
            "text/plain": [
              "{'nome': 'Ricardo', 'idade': 35, 'SangueA+': True, 'Notas': [5.5, 7.6, 8.8]}"
            ]
          },
          "metadata": {},
          "execution_count": 62
        }
      ]
    },
    {
      "cell_type": "code",
      "source": [
        "# itens, keys, values, get"
      ],
      "metadata": {
        "id": "GjUxAnpGYzxP"
      },
      "execution_count": null,
      "outputs": []
    },
    {
      "cell_type": "code",
      "source": [
        "dicionario.items()"
      ],
      "metadata": {
        "colab": {
          "base_uri": "https://localhost:8080/"
        },
        "id": "vG__06bDY20r",
        "outputId": "19d554c2-f2cf-4761-9ebb-6a16bbd28c8c"
      },
      "execution_count": null,
      "outputs": [
        {
          "output_type": "execute_result",
          "data": {
            "text/plain": [
              "dict_items([('nome', 'Ricardo'), ('idade', 35), ('SangueA+', True), ('Notas', [5.5, 7.6, 8.8])])"
            ]
          },
          "metadata": {},
          "execution_count": 63
        }
      ]
    },
    {
      "cell_type": "code",
      "source": [
        "dicionario.keys()"
      ],
      "metadata": {
        "colab": {
          "base_uri": "https://localhost:8080/"
        },
        "id": "skVKu-MiY3TT",
        "outputId": "cd6959f7-08d8-4860-d290-a9cf586d1555"
      },
      "execution_count": null,
      "outputs": [
        {
          "output_type": "execute_result",
          "data": {
            "text/plain": [
              "dict_keys(['nome', 'idade', 'SangueA+', 'Notas'])"
            ]
          },
          "metadata": {},
          "execution_count": 64
        }
      ]
    },
    {
      "cell_type": "code",
      "source": [
        "dicionario.values()"
      ],
      "metadata": {
        "colab": {
          "base_uri": "https://localhost:8080/"
        },
        "id": "vQXF_8ivY3WF",
        "outputId": "fbc4bc4e-6e70-4676-e4fc-4804a0e54f1f"
      },
      "execution_count": null,
      "outputs": [
        {
          "output_type": "execute_result",
          "data": {
            "text/plain": [
              "dict_values(['Ricardo', 35, True, [5.5, 7.6, 8.8]])"
            ]
          },
          "metadata": {},
          "execution_count": 65
        }
      ]
    },
    {
      "cell_type": "code",
      "source": [
        "dicionario['nome']"
      ],
      "metadata": {
        "colab": {
          "base_uri": "https://localhost:8080/",
          "height": 35
        },
        "id": "V0qxkxkDdoMq",
        "outputId": "9efd9594-9900-43c2-e712-f911a8048278"
      },
      "execution_count": null,
      "outputs": [
        {
          "output_type": "execute_result",
          "data": {
            "text/plain": [
              "'Ricardo'"
            ],
            "application/vnd.google.colaboratory.intrinsic+json": {
              "type": "string"
            }
          },
          "metadata": {},
          "execution_count": 66
        }
      ]
    },
    {
      "cell_type": "code",
      "source": [
        "dicionario.get('nome')"
      ],
      "metadata": {
        "colab": {
          "base_uri": "https://localhost:8080/",
          "height": 35
        },
        "id": "JgLJ07o_doY4",
        "outputId": "5942b28a-7806-4e03-efa9-c90fa41ffe94"
      },
      "execution_count": null,
      "outputs": [
        {
          "output_type": "execute_result",
          "data": {
            "text/plain": [
              "'Ricardo'"
            ],
            "application/vnd.google.colaboratory.intrinsic+json": {
              "type": "string"
            }
          },
          "metadata": {},
          "execution_count": 68
        }
      ]
    },
    {
      "cell_type": "markdown",
      "source": [
        "Adicionando novos itens ao dicionário."
      ],
      "metadata": {
        "id": "Vo9nnaaOdwfM"
      }
    },
    {
      "cell_type": "code",
      "source": [
        "dicionario['sobrenome'] = 'Rocha'\n",
        "dicionario"
      ],
      "metadata": {
        "colab": {
          "base_uri": "https://localhost:8080/"
        },
        "id": "mCSsD-phd4nO",
        "outputId": "6e21291d-0442-4cf5-ad4b-af51eff330a8"
      },
      "execution_count": null,
      "outputs": [
        {
          "output_type": "execute_result",
          "data": {
            "text/plain": [
              "{'nome': 'Ricardo',\n",
              " 'idade': 35,\n",
              " 'SangueA+': True,\n",
              " 'Notas': [5.5, 7.6, 8.8],\n",
              " 'sobrenome': 'Rocha'}"
            ]
          },
          "metadata": {},
          "execution_count": 69
        }
      ]
    },
    {
      "cell_type": "markdown",
      "source": [
        "## Conjuntos\n",
        "Conjuntos é também um objeto básico do Python que simula um conjunto matemático. Neles, podemos armazenar elementos que não serão indexados e não permite repetições. Conjuntos são criados através da função set em uma lista ou utilizando chaves { }. Veja o exemplo."
      ],
      "metadata": {
        "id": "tun2ALyHd50C"
      }
    },
    {
      "cell_type": "code",
      "source": [
        "set()"
      ],
      "metadata": {
        "colab": {
          "base_uri": "https://localhost:8080/"
        },
        "id": "7XfF2bKweKbr",
        "outputId": "c44ad662-5854-45e3-e81f-234499b6fcd3"
      },
      "execution_count": null,
      "outputs": [
        {
          "output_type": "execute_result",
          "data": {
            "text/plain": [
              "set()"
            ]
          },
          "metadata": {},
          "execution_count": 80
        }
      ]
    },
    {
      "cell_type": "code",
      "source": [
        "conj1= {'carne', 'frango', 'linguiça', 'carne', 'frango'}\n",
        "conj1"
      ],
      "metadata": {
        "colab": {
          "base_uri": "https://localhost:8080/"
        },
        "id": "-kIBKnbYeLjg",
        "outputId": "4c893a9b-52cc-4a99-cfee-bc1197fcc73a"
      },
      "execution_count": null,
      "outputs": [
        {
          "output_type": "execute_result",
          "data": {
            "text/plain": [
              "{'carne', 'frango', 'linguiça'}"
            ]
          },
          "metadata": {},
          "execution_count": 81
        }
      ]
    },
    {
      "cell_type": "code",
      "source": [
        "conj2= {'carne', 'frango', 'peixe', 'frango', 'cordeiro'}\n",
        "conj2"
      ],
      "metadata": {
        "colab": {
          "base_uri": "https://localhost:8080/"
        },
        "id": "x660uUjHeLuv",
        "outputId": "333093ba-ccae-4b56-cd74-0b161f9b3a14"
      },
      "execution_count": null,
      "outputs": [
        {
          "output_type": "execute_result",
          "data": {
            "text/plain": [
              "{'carne', 'cordeiro', 'frango', 'peixe'}"
            ]
          },
          "metadata": {},
          "execution_count": 82
        }
      ]
    },
    {
      "cell_type": "code",
      "source": [
        "conj1==conj2"
      ],
      "metadata": {
        "colab": {
          "base_uri": "https://localhost:8080/"
        },
        "id": "44hvLzoEeLzM",
        "outputId": "b7a99995-66c2-4db9-b67b-f8434b8fcced"
      },
      "execution_count": null,
      "outputs": [
        {
          "output_type": "execute_result",
          "data": {
            "text/plain": [
              "False"
            ]
          },
          "metadata": {},
          "execution_count": 83
        }
      ]
    },
    {
      "cell_type": "markdown",
      "source": [
        "Alguns métodos importantes para conjuntos são as suas possíveis operações: "
      ],
      "metadata": {
        "id": "J-7a-YUVerdP"
      }
    },
    {
      "cell_type": "code",
      "source": [],
      "metadata": {
        "id": "ObpwQX84elyy"
      },
      "execution_count": null,
      "outputs": []
    },
    {
      "cell_type": "code",
      "source": [
        "uniao= conj1.union(conj2)\n",
        "uniao"
      ],
      "metadata": {
        "colab": {
          "base_uri": "https://localhost:8080/"
        },
        "id": "RemFKcpGeL24",
        "outputId": "3f8a6c74-f0d1-4b66-e79f-bdfdf7f18fd4"
      },
      "execution_count": null,
      "outputs": [
        {
          "output_type": "execute_result",
          "data": {
            "text/plain": [
              "{'carne', 'cordeiro', 'frango', 'linguiça', 'peixe'}"
            ]
          },
          "metadata": {},
          "execution_count": 85
        }
      ]
    },
    {
      "cell_type": "code",
      "source": [
        "intersecao = conj1.intersection(conj2)\n",
        "intersecao"
      ],
      "metadata": {
        "colab": {
          "base_uri": "https://localhost:8080/"
        },
        "id": "sEl3Sc0T5cLl",
        "outputId": "81255e6b-6c40-4f0f-cec1-4f56e2e71dcf"
      },
      "execution_count": null,
      "outputs": [
        {
          "output_type": "execute_result",
          "data": {
            "text/plain": [
              "{'carne', 'frango'}"
            ]
          },
          "metadata": {},
          "execution_count": 87
        }
      ]
    },
    {
      "cell_type": "code",
      "source": [
        "conj1.isdisjoint(conj2)"
      ],
      "metadata": {
        "colab": {
          "base_uri": "https://localhost:8080/"
        },
        "id": "mpn46kGr5h0Y",
        "outputId": "f41481c7-3b28-4855-eda9-107ec82d695e"
      },
      "execution_count": null,
      "outputs": [
        {
          "output_type": "execute_result",
          "data": {
            "text/plain": [
              "False"
            ]
          },
          "metadata": {},
          "execution_count": 88
        }
      ]
    },
    {
      "cell_type": "code",
      "source": [
        "uniaosim = conj1.symmetric_difference(conj2)\n",
        "uniaosim"
      ],
      "metadata": {
        "colab": {
          "base_uri": "https://localhost:8080/"
        },
        "id": "K3MNUd8M5h8i",
        "outputId": "977775bb-d171-4302-86b5-073f1a84dab3"
      },
      "execution_count": null,
      "outputs": [
        {
          "output_type": "execute_result",
          "data": {
            "text/plain": [
              "{'cordeiro', 'linguiça', 'peixe'}"
            ]
          },
          "metadata": {},
          "execution_count": 89
        }
      ]
    },
    {
      "cell_type": "code",
      "source": [
        "  intersecao.isdisjoint(uniaosim)"
      ],
      "metadata": {
        "colab": {
          "base_uri": "https://localhost:8080/"
        },
        "id": "04zocA-15sgX",
        "outputId": "0a0ef61c-5f6b-43dc-bac5-2bf4328866d5"
      },
      "execution_count": null,
      "outputs": [
        {
          "output_type": "execute_result",
          "data": {
            "text/plain": [
              "True"
            ]
          },
          "metadata": {},
          "execution_count": 90
        }
      ]
    },
    {
      "cell_type": "code",
      "source": [
        "list(uniaosim)"
      ],
      "metadata": {
        "colab": {
          "base_uri": "https://localhost:8080/"
        },
        "id": "wXUgVOdC5sl2",
        "outputId": "bcf49c30-5dc9-452c-e140-79ab307be253"
      },
      "execution_count": null,
      "outputs": [
        {
          "output_type": "execute_result",
          "data": {
            "text/plain": [
              "['cordeiro', 'peixe', 'linguiça']"
            ]
          },
          "metadata": {},
          "execution_count": 91
        }
      ]
    },
    {
      "cell_type": "markdown",
      "source": [
        "# AULA 10 - ÁLBUM DE FIGURINHA"
      ],
      "metadata": {
        "id": "1xBcqh1OarjA"
      }
    },
    {
      "cell_type": "code",
      "source": [],
      "metadata": {
        "id": "Lb9B0DPP5h_f"
      },
      "execution_count": null,
      "outputs": []
    }
  ],
  "metadata": {
    "colab": {
      "provenance": [],
      "authorship_tag": "ABX9TyNtLiJNfUailpxPpyC0i2I6",
      "include_colab_link": true
    },
    "kernelspec": {
      "display_name": "Python 3",
      "name": "python3"
    },
    "language_info": {
      "name": "python"
    }
  },
  "nbformat": 4,
  "nbformat_minor": 0
}